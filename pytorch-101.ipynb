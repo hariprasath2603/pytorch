{
 "cells": [
  {
   "cell_type": "markdown",
   "metadata": {},
   "source": [
    "## Pytorch\n",
    "\n",
    "PyTorch is a machine learning library based on the Torch library, used for applications such as computer vision and natural language processing..."
   ]
  },
  {
   "cell_type": "code",
   "execution_count": 1,
   "metadata": {},
   "outputs": [
    {
     "data": {
      "text/plain": [
       "'2.5.1'"
      ]
     },
     "execution_count": 1,
     "metadata": {},
     "output_type": "execute_result"
    }
   ],
   "source": [
    "import torch\n",
    "\n",
    "torch.__version__"
   ]
  },
  {
   "cell_type": "markdown",
   "metadata": {},
   "source": [
    "### Value types\n",
    "\n",
    "- Scaler - single value\n",
    "- Vector - array of value\n",
    "- Matrix - 2D array\n",
    "- Tensor -  3D or More Dimension"
   ]
  },
  {
   "cell_type": "code",
   "execution_count": 2,
   "metadata": {},
   "outputs": [
    {
     "data": {
      "text/plain": [
       "tensor(7)"
      ]
     },
     "execution_count": 2,
     "metadata": {},
     "output_type": "execute_result"
    }
   ],
   "source": [
    "scaler = torch.tensor(7)\n",
    "scaler"
   ]
  },
  {
   "cell_type": "code",
   "execution_count": 3,
   "metadata": {},
   "outputs": [
    {
     "data": {
      "text/plain": [
       "tensor([1, 2, 3, 4, 5])"
      ]
     },
     "execution_count": 3,
     "metadata": {},
     "output_type": "execute_result"
    }
   ],
   "source": [
    "vector = torch.tensor([1,2,3,4,5])\n",
    "vector"
   ]
  },
  {
   "cell_type": "code",
   "execution_count": 4,
   "metadata": {},
   "outputs": [
    {
     "data": {
      "text/plain": [
       "tensor([[1, 2],\n",
       "        [3, 4]])"
      ]
     },
     "execution_count": 4,
     "metadata": {},
     "output_type": "execute_result"
    }
   ],
   "source": [
    "matrix = torch.tensor([[1,2],[3,4]])\n",
    "matrix"
   ]
  },
  {
   "cell_type": "code",
   "execution_count": 5,
   "metadata": {},
   "outputs": [
    {
     "data": {
      "text/plain": [
       "tensor([[[ 1,  2,  3],\n",
       "         [ 4,  5,  6]],\n",
       "\n",
       "        [[ 7,  8,  9],\n",
       "         [10, 11, 12]]])"
      ]
     },
     "execution_count": 5,
     "metadata": {},
     "output_type": "execute_result"
    }
   ],
   "source": [
    "tensor = torch.tensor([[[1,2,3],[4,5,6]],[[7,8,9],[10,11,12]]])\n",
    "tensor"
   ]
  },
  {
   "cell_type": "code",
   "execution_count": 11,
   "metadata": {},
   "outputs": [
    {
     "name": "stdout",
     "output_type": "stream",
     "text": [
      "----------------------------------------\n",
      "tensor(7)\n",
      "Dimension is 0\n",
      "Shape is torch.Size([])\n",
      "Dimension is torch.int64\n",
      "----------------------------------------\n",
      "tensor([1, 2, 3, 4, 5])\n",
      "Dimension is 1\n",
      "Shape is torch.Size([5])\n",
      "Dimension is torch.int64\n",
      "----------------------------------------\n",
      "tensor([[1, 2],\n",
      "        [3, 4]])\n",
      "Dimension is 2\n",
      "Shape is torch.Size([2, 2])\n",
      "Dimension is torch.int64\n",
      "----------------------------------------\n",
      "tensor([[[ 1,  2,  3],\n",
      "         [ 4,  5,  6]],\n",
      "\n",
      "        [[ 7,  8,  9],\n",
      "         [10, 11, 12]]])\n",
      "Dimension is 3\n",
      "Shape is torch.Size([2, 2, 3])\n",
      "Dimension is torch.int64\n"
     ]
    }
   ],
   "source": [
    "def infoAboutValues(tensor):\n",
    "    print(\"-\"*40)\n",
    "    print(tensor)\n",
    "    print(f\"Dimension is {tensor.ndim}\")\n",
    "    print(f\"Shape is {tensor.shape}\")\n",
    "    print(f\"Dimension is {tensor.dtype}\")\n",
    "\n",
    "infoAboutValues(scaler)\n",
    "infoAboutValues(vector)\n",
    "infoAboutValues(matrix)\n",
    "infoAboutValues(tensor)"
   ]
  },
  {
   "cell_type": "markdown",
   "metadata": {},
   "source": [
    "### Creating tensors\n",
    " - Random\n",
    " - Zeros and once\n",
    " - Range"
   ]
  },
  {
   "cell_type": "code",
   "execution_count": 12,
   "metadata": {},
   "outputs": [
    {
     "data": {
      "text/plain": [
       "tensor([[[0.6308, 0.2695],\n",
       "         [0.8488, 0.3586],\n",
       "         [0.6140, 0.7959]],\n",
       "\n",
       "        [[0.4556, 0.7821],\n",
       "         [0.9606, 0.1777],\n",
       "         [0.9653, 0.0182]]])"
      ]
     },
     "execution_count": 12,
     "metadata": {},
     "output_type": "execute_result"
    }
   ],
   "source": [
    "random_tensor = torch.rand(size=(2,3,2))\n",
    "random_tensor"
   ]
  },
  {
   "cell_type": "code",
   "execution_count": null,
   "metadata": {},
   "outputs": [
    {
     "data": {
      "text/plain": [
       "tensor([[[10, 12],\n",
       "         [17, 19]]])"
      ]
     },
     "execution_count": 20,
     "metadata": {},
     "output_type": "execute_result"
    }
   ],
   "source": [
    "random_tensor = torch.randint(10, 30, size=[1,2, 2]) # low, high, size\n",
    "random_tensor"
   ]
  },
  {
   "cell_type": "code",
   "execution_count": 22,
   "metadata": {},
   "outputs": [
    {
     "data": {
      "text/plain": [
       "tensor([[0., 0., 0.],\n",
       "        [0., 0., 0.]])"
      ]
     },
     "execution_count": 22,
     "metadata": {},
     "output_type": "execute_result"
    }
   ],
   "source": [
    "zero_tensor = torch.zeros(size=[2,3])\n",
    "zero_tensor"
   ]
  },
  {
   "cell_type": "code",
   "execution_count": 23,
   "metadata": {},
   "outputs": [
    {
     "data": {
      "text/plain": [
       "tensor([[1., 1., 1.],\n",
       "        [1., 1., 1.]])"
      ]
     },
     "execution_count": 23,
     "metadata": {},
     "output_type": "execute_result"
    }
   ],
   "source": [
    "one_tensor = torch.ones(size=[2,3])\n",
    "one_tensor"
   ]
  },
  {
   "cell_type": "code",
   "execution_count": null,
   "metadata": {},
   "outputs": [
    {
     "data": {
      "text/plain": [
       "tensor([[0.2110, 0.9196, 0.1011],\n",
       "        [0.4572, 0.6911, 0.9580]])"
      ]
     },
     "execution_count": 24,
     "metadata": {},
     "output_type": "execute_result"
    }
   ],
   "source": [
    "similar_tensor = torch.rand_like(one_tensor) #ones_like, zeros_like, randint_like, full_like - are used to create similar flavour\n",
    "similar_tensor"
   ]
  },
  {
   "cell_type": "code",
   "execution_count": null,
   "metadata": {},
   "outputs": [
    {
     "data": {
      "text/plain": [
       "tensor([10, 12, 14, 16, 18])"
      ]
     },
     "execution_count": 26,
     "metadata": {},
     "output_type": "execute_result"
    }
   ],
   "source": [
    "range_tensor = torch.arange(10, 20, 2) # start, end, step\n",
    "range_tensor"
   ]
  },
  {
   "cell_type": "code",
   "execution_count": null,
   "metadata": {},
   "outputs": [
    {
     "data": {
      "text/plain": [
       "tensor([1, 2, 3, 4])"
      ]
     },
     "execution_count": 28,
     "metadata": {},
     "output_type": "execute_result"
    }
   ],
   "source": [
    "cuda_tensor = torch.tensor([1,2,3,4], dtype=torch.int64, device='cpu') # replace device with 'cuda' if needed\n",
    "cuda_tensor"
   ]
  },
  {
   "cell_type": "markdown",
   "metadata": {},
   "source": [
    "### Tensor operations"
   ]
  },
  {
   "cell_type": "code",
   "execution_count": 32,
   "metadata": {},
   "outputs": [
    {
     "name": "stdout",
     "output_type": "stream",
     "text": [
      "tensor([[27, 24, 24],\n",
      "        [15, 11, 22],\n",
      "        [ 8, 23, 29],\n",
      "        [19,  9, 17],\n",
      "        [ 9, 26, 14]])\n",
      "tensor([[4, 4, 5],\n",
      "        [4, 4, 7],\n",
      "        [8, 5, 7],\n",
      "        [8, 7, 4],\n",
      "        [8, 5, 4]])\n"
     ]
    }
   ],
   "source": [
    "tensor_1 = torch.randint(8, 30, size=[5, 3])\n",
    "tensor_2 = torch.randint(4, 9, size=[5, 3])\n",
    "\n",
    "print(tensor_1)\n",
    "print(tensor_2)"
   ]
  },
  {
   "cell_type": "code",
   "execution_count": 33,
   "metadata": {},
   "outputs": [
    {
     "data": {
      "text/plain": [
       "tensor([[31, 28, 29],\n",
       "        [19, 15, 29],\n",
       "        [16, 28, 36],\n",
       "        [27, 16, 21],\n",
       "        [17, 31, 18]])"
      ]
     },
     "execution_count": 33,
     "metadata": {},
     "output_type": "execute_result"
    }
   ],
   "source": [
    "tensor_1 + tensor_2"
   ]
  },
  {
   "cell_type": "code",
   "execution_count": 34,
   "metadata": {},
   "outputs": [
    {
     "data": {
      "text/plain": [
       "tensor([[31, 28, 28],\n",
       "        [19, 15, 26],\n",
       "        [12, 27, 33],\n",
       "        [23, 13, 21],\n",
       "        [13, 30, 18]])"
      ]
     },
     "execution_count": 34,
     "metadata": {},
     "output_type": "execute_result"
    }
   ],
   "source": [
    "tensor_1 + 4"
   ]
  },
  {
   "cell_type": "code",
   "execution_count": 36,
   "metadata": {},
   "outputs": [
    {
     "data": {
      "text/plain": [
       "tensor([[1, 1, 2],\n",
       "        [1, 1, 4],\n",
       "        [5, 2, 4],\n",
       "        [5, 4, 1],\n",
       "        [5, 2, 1]])"
      ]
     },
     "execution_count": 36,
     "metadata": {},
     "output_type": "execute_result"
    }
   ],
   "source": [
    "tensor_2 - 3"
   ]
  },
  {
   "cell_type": "code",
   "execution_count": 37,
   "metadata": {},
   "outputs": [
    {
     "data": {
      "text/plain": [
       "tensor([[23, 20, 19],\n",
       "        [11,  7, 15],\n",
       "        [ 0, 18, 22],\n",
       "        [11,  2, 13],\n",
       "        [ 1, 21, 10]])"
      ]
     },
     "execution_count": 37,
     "metadata": {},
     "output_type": "execute_result"
    }
   ],
   "source": [
    "tensor_1 - tensor_2"
   ]
  },
  {
   "cell_type": "code",
   "execution_count": 39,
   "metadata": {},
   "outputs": [
    {
     "data": {
      "text/plain": [
       "tensor([[108,  96, 120],\n",
       "        [ 60,  44, 154],\n",
       "        [ 64, 115, 203],\n",
       "        [152,  63,  68],\n",
       "        [ 72, 130,  56]])"
      ]
     },
     "execution_count": 39,
     "metadata": {},
     "output_type": "execute_result"
    }
   ],
   "source": [
    "# This is performed on element wise not the real matrix multiplication\n",
    "tensor_1 * tensor_2"
   ]
  },
  {
   "cell_type": "code",
   "execution_count": 42,
   "metadata": {},
   "outputs": [
    {
     "data": {
      "text/plain": [
       "tensor([[324, 372, 504, 480, 432],\n",
       "        [214, 258, 329, 285, 263],\n",
       "        [269, 327, 382, 341, 295],\n",
       "        [197, 231, 316, 283, 265],\n",
       "        [210, 238, 300, 310, 258]])"
      ]
     },
     "execution_count": 42,
     "metadata": {},
     "output_type": "execute_result"
    }
   ],
   "source": [
    "# Matrix multiplication - > Real one \n",
    "torch.matmul(tensor_1, tensor_2.T)    # tensor_2.T -> is the transpose of tensor_2"
   ]
  },
  {
   "cell_type": "markdown",
   "metadata": {},
   "source": [
    "> Make sure for matrix multiplication column of 1st matrix and row of 2nd matrix should be `equal`"
   ]
  },
  {
   "cell_type": "code",
   "execution_count": 45,
   "metadata": {},
   "outputs": [
    {
     "data": {
      "text/plain": [
       "tensor([[324, 372, 504, 480, 432],\n",
       "        [214, 258, 329, 285, 263],\n",
       "        [269, 327, 382, 341, 295],\n",
       "        [197, 231, 316, 283, 265],\n",
       "        [210, 238, 300, 310, 258]])"
      ]
     },
     "execution_count": 45,
     "metadata": {},
     "output_type": "execute_result"
    }
   ],
   "source": [
    "tensor_1 @ tensor_2.T # this is similar to matmul\n",
    "# torch.mm is also same"
   ]
  },
  {
   "cell_type": "markdown",
   "metadata": {},
   "source": [
    "### Aggregation"
   ]
  },
  {
   "cell_type": "code",
   "execution_count": 47,
   "metadata": {},
   "outputs": [
    {
     "data": {
      "text/plain": [
       "tensor([[27, 24, 24],\n",
       "        [15, 11, 22],\n",
       "        [ 8, 23, 29],\n",
       "        [19,  9, 17],\n",
       "        [ 9, 26, 14]])"
      ]
     },
     "execution_count": 47,
     "metadata": {},
     "output_type": "execute_result"
    }
   ],
   "source": [
    "tensor_1"
   ]
  },
  {
   "cell_type": "code",
   "execution_count": 46,
   "metadata": {},
   "outputs": [
    {
     "data": {
      "text/plain": [
       "tensor(8)"
      ]
     },
     "execution_count": 46,
     "metadata": {},
     "output_type": "execute_result"
    }
   ],
   "source": [
    "tensor_1.min()"
   ]
  },
  {
   "cell_type": "code",
   "execution_count": 48,
   "metadata": {},
   "outputs": [
    {
     "data": {
      "text/plain": [
       "tensor(29)"
      ]
     },
     "execution_count": 48,
     "metadata": {},
     "output_type": "execute_result"
    }
   ],
   "source": [
    "tensor_1.max()"
   ]
  },
  {
   "cell_type": "code",
   "execution_count": 51,
   "metadata": {},
   "outputs": [
    {
     "data": {
      "text/plain": [
       "tensor(18.4688, dtype=torch.float16)"
      ]
     },
     "execution_count": 51,
     "metadata": {},
     "output_type": "execute_result"
    }
   ],
   "source": [
    "tensor_1.type(torch.float16).mean()"
   ]
  },
  {
   "cell_type": "code",
   "execution_count": 52,
   "metadata": {},
   "outputs": [
    {
     "data": {
      "text/plain": [
       "tensor(277)"
      ]
     },
     "execution_count": 52,
     "metadata": {},
     "output_type": "execute_result"
    }
   ],
   "source": [
    "tensor_1.sum()"
   ]
  },
  {
   "cell_type": "code",
   "execution_count": null,
   "metadata": {},
   "outputs": [
    {
     "data": {
      "text/plain": [
       "tensor(8)"
      ]
     },
     "execution_count": 58,
     "metadata": {},
     "output_type": "execute_result"
    }
   ],
   "source": [
    "tensor_1.argmax() # it gives index of squeezed array"
   ]
  },
  {
   "cell_type": "code",
   "execution_count": 60,
   "metadata": {},
   "outputs": [
    {
     "data": {
      "text/plain": [
       "tensor(6)"
      ]
     },
     "execution_count": 60,
     "metadata": {},
     "output_type": "execute_result"
    }
   ],
   "source": [
    "tensor_1.argmin() # it gives index of squeezed array"
   ]
  },
  {
   "cell_type": "markdown",
   "metadata": {},
   "source": [
    "### Reshape the tensor"
   ]
  },
  {
   "cell_type": "code",
   "execution_count": null,
   "metadata": {},
   "outputs": [
    {
     "data": {
      "text/plain": [
       "tensor([[27, 24, 24, 15, 11],\n",
       "        [22,  8, 23, 29, 19],\n",
       "        [ 9, 17,  9, 26, 14]])"
      ]
     },
     "execution_count": 61,
     "metadata": {},
     "output_type": "execute_result"
    }
   ],
   "source": [
    "torch.reshape(tensor_1, shape=[3,5]) # it may create new memory copy"
   ]
  },
  {
   "cell_type": "code",
   "execution_count": null,
   "metadata": {},
   "outputs": [
    {
     "data": {
      "text/plain": [
       "tensor([[27, 24, 24, 15, 11],\n",
       "        [22,  8, 23, 29, 19],\n",
       "        [ 9, 17,  9, 26, 14]])"
      ]
     },
     "execution_count": 64,
     "metadata": {},
     "output_type": "execute_result"
    }
   ],
   "source": [
    "tensor_1.view(3,5) # in same memory just change the shape, but needs to be in continuous memory"
   ]
  },
  {
   "cell_type": "code",
   "execution_count": null,
   "metadata": {},
   "outputs": [
    {
     "data": {
      "text/plain": [
       "tensor([[[27, 24, 24],\n",
       "         [15, 11, 22],\n",
       "         [ 8, 23, 29],\n",
       "         [19,  9, 17],\n",
       "         [ 9, 26, 14]],\n",
       "\n",
       "        [[ 4,  4,  5],\n",
       "         [ 4,  4,  7],\n",
       "         [ 8,  5,  7],\n",
       "         [ 8,  7,  4],\n",
       "         [ 8,  5,  4]]])"
      ]
     },
     "execution_count": 68,
     "metadata": {},
     "output_type": "execute_result"
    }
   ],
   "source": [
    "torch.stack([tensor_1, tensor_2]) # place one top of another / side of another use dim to change"
   ]
  },
  {
   "cell_type": "code",
   "execution_count": null,
   "metadata": {},
   "outputs": [
    {
     "name": "stdout",
     "output_type": "stream",
     "text": [
      "Shape of unsqueeze :torch.Size([1, 2, 2])\n",
      "Unsqueeze :tensor([[[1, 2],\n",
      "         [3, 4]]])\n",
      "----------------------------------------\n",
      "Shape of squeeze :torch.Size([1, 2, 2])\n",
      "squeeze :tensor([[[1, 2],\n",
      "         [3, 4]]])\n"
     ]
    }
   ],
   "source": [
    "tensor_unsqueeze = torch.tensor([[[1,2],[3,4]]])\n",
    "tensor_squeezed = torch.squeeze(tensor_unsqueeze, dim=) # it removes the extra tensor space around\n",
    "# tensor_1\n",
    "\n",
    "print(f\"Shape of unsqueeze :{tensor_unsqueeze.shape}\")\n",
    "print(f\"Unsqueeze :{tensor_unsqueeze}\")\n",
    "\n",
    "print(\"-\"*40)\n",
    "\n",
    "print(f\"Shape of squeeze :{tensor_squeezed.shape}\")\n",
    "print(f\"squeeze :{tensor_squeezed}\")"
   ]
  },
  {
   "cell_type": "code",
   "execution_count": null,
   "metadata": {},
   "outputs": [
    {
     "name": "stdout",
     "output_type": "stream",
     "text": [
      "Shape :torch.Size([4])\n",
      "tensor :tensor([1, 2, 3, 4])\n",
      "----------------------------------------\n",
      "Shape of unsqueeze dim=0 :torch.Size([1, 4])\n",
      "unsqueeze :tensor([[1, 2, 3, 4]])\n",
      "-----------------------------------------\n",
      "Shape of unsqueeze dim=1 :torch.Size([4, 1])\n",
      "unsqueeze :tensor([[1],\n",
      "        [2],\n",
      "        [3],\n",
      "        [4]])\n"
     ]
    }
   ],
   "source": [
    "tensor_unsqueeze = torch.tensor([1,2,3,4])\n",
    "\n",
    "print(f\"Shape :{tensor_unsqueeze.shape}\")\n",
    "print(f\"tensor :{tensor_unsqueeze}\")\n",
    "\n",
    "\n",
    "tensor_unsqueeze_0 = tensor_unsqueeze.unsqueeze(dim=0) # unsqueeze add one boundary\n",
    "\n",
    "print(\"-\"*40)\n",
    "print(f\"Shape of unsqueeze dim=0 :{tensor_unsqueeze_0.shape}\")\n",
    "print(f\"unsqueeze :{tensor_unsqueeze_0}\")\n",
    "\n",
    "\n",
    "tensor_unsqueeze_1 = tensor_unsqueeze.unsqueeze(dim=1)\n",
    "\n",
    "print(\"-\"*41)\n",
    "print(f\"Shape of unsqueeze dim=1 :{tensor_unsqueeze_1.shape}\")\n",
    "print(f\"unsqueeze :{tensor_unsqueeze_1}\")\n"
   ]
  },
  {
   "cell_type": "code",
   "execution_count": 96,
   "metadata": {},
   "outputs": [
    {
     "name": "stdout",
     "output_type": "stream",
     "text": [
      "tensor([[1, 2, 3],\n",
      "        [4, 5, 6],\n",
      "        [7, 8, 9]])\n",
      "tensor([[1, 4, 7],\n",
      "        [2, 5, 8],\n",
      "        [3, 6, 9]])\n"
     ]
    }
   ],
   "source": [
    "tensor_t1 = torch.tensor([[1,2,3],[4,5,6],[7,8,9]])\n",
    "print(tensor_t1)\n",
    "print(tensor_t1.permute(dims=[1,0])) # same like view the share same memory and changes in one reflect in permuted"
   ]
  },
  {
   "cell_type": "markdown",
   "metadata": {},
   "source": [
    "### Numpy "
   ]
  },
  {
   "cell_type": "code",
   "execution_count": 98,
   "metadata": {},
   "outputs": [
    {
     "data": {
      "text/plain": [
       "(array([1, 2, 3, 4, 5, 6, 7, 8, 9]), tensor([1, 2, 3, 4, 5, 6, 7, 8, 9]))"
      ]
     },
     "execution_count": 98,
     "metadata": {},
     "output_type": "execute_result"
    }
   ],
   "source": [
    "import numpy as np \n",
    "\n",
    "arr = np.arange(1,10)\n",
    "tensor_np = torch.from_numpy(arr)\n",
    "\n",
    "arr, tensor_np"
   ]
  },
  {
   "cell_type": "code",
   "execution_count": 100,
   "metadata": {},
   "outputs": [
    {
     "data": {
      "text/plain": [
       "(dtype('int64'), torch.int64)"
      ]
     },
     "execution_count": 100,
     "metadata": {},
     "output_type": "execute_result"
    }
   ],
   "source": [
    "arr.dtype, tensor_np.dtype\n",
    "# tensor inherit the datatype from numpy"
   ]
  },
  {
   "cell_type": "code",
   "execution_count": null,
   "metadata": {},
   "outputs": [
    {
     "data": {
      "text/plain": [
       "(array([1, 2, 3, 4, 5, 6, 7, 8, 9]),\n",
       " tensor([11, 12, 13, 14, 15, 16, 17, 18, 19]))"
      ]
     },
     "execution_count": 101,
     "metadata": {},
     "output_type": "execute_result"
    }
   ],
   "source": [
    "tensor_np = tensor_np+10\n",
    "\n",
    "arr, tensor_np # changes are not affecting each other"
   ]
  },
  {
   "cell_type": "markdown",
   "metadata": {},
   "source": [
    "### Randomness"
   ]
  },
  {
   "cell_type": "code",
   "execution_count": 103,
   "metadata": {},
   "outputs": [
    {
     "data": {
      "text/plain": [
       "(tensor([0.7471, 0.0684, 0.4256, 0.0499, 0.4684, 0.9429, 0.6751, 0.1905, 0.3255,\n",
       "         0.4243]),\n",
       " tensor([0.4764, 0.4411, 0.6172, 0.3286, 0.3860, 0.8799, 0.0631, 0.7656, 0.5955,\n",
       "         0.0478]),\n",
       " tensor([False, False, False, False, False, False, False, False, False, False]))"
      ]
     },
     "execution_count": 103,
     "metadata": {},
     "output_type": "execute_result"
    }
   ],
   "source": [
    "tensor_a = torch.rand(10)\n",
    "tensor_b = torch.rand(10)\n",
    "\n",
    "tensor_a, tensor_b, tensor_a==tensor_b"
   ]
  },
  {
   "cell_type": "code",
   "execution_count": null,
   "metadata": {},
   "outputs": [
    {
     "data": {
      "text/plain": [
       "(tensor([0.8823, 0.9150, 0.3829, 0.9593, 0.3904, 0.6009, 0.2566, 0.7936, 0.9408,\n",
       "         0.1332]),\n",
       " tensor([0.9346, 0.5936, 0.8694, 0.5677, 0.7411, 0.4294, 0.8854, 0.5739, 0.2666,\n",
       "         0.6274]),\n",
       " tensor([False, False, False, False, False, False, False, False, False, False]))"
      ]
     },
     "execution_count": 104,
     "metadata": {},
     "output_type": "execute_result"
    }
   ],
   "source": [
    "torch.manual_seed(42) # it will not work on tensor_b creation\n",
    "tensor_a = torch.rand(10)\n",
    "tensor_b = torch.rand(10)\n",
    "\n",
    "tensor_a, tensor_b, tensor_a==tensor_b"
   ]
  },
  {
   "cell_type": "code",
   "execution_count": null,
   "metadata": {},
   "outputs": [
    {
     "data": {
      "text/plain": [
       "(tensor([0.8823, 0.9150, 0.3829, 0.9593, 0.3904, 0.6009, 0.2566, 0.7936, 0.9408,\n",
       "         0.1332]),\n",
       " tensor([0.8823, 0.9150, 0.3829, 0.9593, 0.3904, 0.6009, 0.2566, 0.7936, 0.9408,\n",
       "         0.1332]),\n",
       " tensor([True, True, True, True, True, True, True, True, True, True]))"
      ]
     },
     "execution_count": 105,
     "metadata": {},
     "output_type": "execute_result"
    }
   ],
   "source": [
    "torch.manual_seed(42) # use this once per block of code\n",
    "tensor_a = torch.rand(10)\n",
    "\n",
    "torch.manual_seed(42)\n",
    "tensor_b = torch.rand(10)\n",
    "\n",
    "tensor_a, tensor_b, tensor_a==tensor_b"
   ]
  },
  {
   "cell_type": "code",
   "execution_count": null,
   "metadata": {},
   "outputs": [],
   "source": []
  }
 ],
 "metadata": {
  "kernelspec": {
   "display_name": "Python 3",
   "language": "python",
   "name": "python3"
  },
  "language_info": {
   "codemirror_mode": {
    "name": "ipython",
    "version": 3
   },
   "file_extension": ".py",
   "mimetype": "text/x-python",
   "name": "python",
   "nbconvert_exporter": "python",
   "pygments_lexer": "ipython3",
   "version": "3.11.11"
  }
 },
 "nbformat": 4,
 "nbformat_minor": 2
}
