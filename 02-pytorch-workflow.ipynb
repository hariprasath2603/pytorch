{
 "cells": [
  {
   "cell_type": "markdown",
   "metadata": {},
   "source": [
    "## PyTorch workflow\n",
    "\n",
    "1) Loading Data\n",
    "2) Build a model\n",
    "3) Fit a model\n",
    "4) Evaluation\n",
    "5) saving and loading model"
   ]
  },
  {
   "cell_type": "markdown",
   "metadata": {},
   "source": [
    "### Loading data\n",
    "\n",
    "Machine Learning has two parts\n",
    "1) Converting data to numerical encoding\n",
    "2) Build model to learn patterns in numbers"
   ]
  },
  {
   "cell_type": "code",
   "execution_count": 1,
   "metadata": {},
   "outputs": [],
   "source": [
    "import torch\n",
    "from torch import nn\n",
    "\n",
    "import matplotlib.pyplot as plt"
   ]
  },
  {
   "cell_type": "code",
   "execution_count": null,
   "metadata": {},
   "outputs": [
    {
     "data": {
      "text/plain": [
       "tensor([[ 7.3000],\n",
       "        [14.3000],\n",
       "        [26.9000],\n",
       "        [17.1000],\n",
       "        [17.8000],\n",
       "        [ 2.4000],\n",
       "        [ 9.4000],\n",
       "        [26.9000],\n",
       "        [26.9000],\n",
       "        [14.3000]])"
      ]
     },
     "execution_count": 6,
     "metadata": {},
     "output_type": "execute_result"
    }
   ],
   "source": [
    "# Creating linear regression\n",
    "\n",
    "weight = 0.7\n",
    "bias = 0.3\n",
    "\n",
    "# y = x * weight + bias - linear equation \n",
    "\n",
    "start = 1\n",
    "end = 50\n",
    "X_tensor = torch.randint(start, end, size=[50]).unsqueeze(dim=1)\n",
    "Y_tensor = X_tensor * weight + bias\n",
    "\n",
    "\n",
    "Y_tensor[:10]"
   ]
  },
  {
   "cell_type": "code",
   "execution_count": null,
   "metadata": {},
   "outputs": [],
   "source": []
  }
 ],
 "metadata": {
  "kernelspec": {
   "display_name": "Python 3",
   "language": "python",
   "name": "python3"
  },
  "language_info": {
   "codemirror_mode": {
    "name": "ipython",
    "version": 3
   },
   "file_extension": ".py",
   "mimetype": "text/x-python",
   "name": "python",
   "nbconvert_exporter": "python",
   "pygments_lexer": "ipython3",
   "version": "3.11.11"
  }
 },
 "nbformat": 4,
 "nbformat_minor": 2
}
